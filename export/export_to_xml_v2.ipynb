{
 "cells": [
  {
   "cell_type": "code",
   "execution_count": 2,
   "id": "ae8229c7",
   "metadata": {},
   "outputs": [],
   "source": [
    "import psycopg2\n",
    "import xml.etree.ElementTree as ET\n",
    "from bs4 import BeautifulSoup\n",
    "import requests\n",
    "import sys\n",
    "sys.path.append('../')\n",
    "from src.utils import connect_db, get_table_name, print_tree"
   ]
  },
  {
   "cell_type": "code",
   "execution_count": 3,
   "id": "ac116890",
   "metadata": {},
   "outputs": [],
   "source": [
    "xml_dir = 'baseplate_320-BA-PF0-VR-00004_cond_upload.xml'"
   ]
  },
  {
   "cell_type": "code",
   "execution_count": 4,
   "id": "90b44c5c",
   "metadata": {},
   "outputs": [],
   "source": [
    "def parse_xml_to_dict(element):\n",
    "    \"\"\"\n",
    "    Recursively parse a BeautifulSoup tag and return a dictionary representation.\n",
    "    \"\"\"\n",
    "    # If the element has no sub-elements, return its text content\n",
    "    if not element.find_all(recursive=False):\n",
    "        return element.text.strip() if element.text else None\n",
    "\n",
    "    # If the element has attributes, include them in the result\n",
    "    result = {attr: value for attr, value in element.attrs.items()} if element.attrs else {}\n",
    "\n",
    "    # Parse each sub-element recursively\n",
    "    for sub_element in element.find_all(recursive=False):\n",
    "        result[sub_element.name] = parse_xml_to_dict(sub_element)\n",
    "\n",
    "    return result"
   ]
  },
  {
   "cell_type": "markdown",
   "id": "5d1689fb",
   "metadata": {},
   "source": [
    "## Attempt - Update XML file with the value from PostgreSQL\n",
    "## test\n",
    "We want to \n",
    "1. select\n",
    "    - feature_name = Corner1\n",
    "    - bp_name = FNAL3-2\n",
    "    - value = X\n",
    "2. retreive \n",
    "    - inspector = simurthy\n",
    "3. replace \"initiated_by_user\" to inspector value"
   ]
  },
  {
   "cell_type": "code",
   "execution_count": 8,
   "id": "6f1baacc",
   "metadata": {},
   "outputs": [],
   "source": [
    "# Load your XML file\n",
    "# Replace 'path/to/your/file.xml' with the actual file path\n",
    "with open(xml_dir, 'r') as file:\n",
    "    xml_content = file.read()\n",
    "\n",
    "# Parse the XML content\n",
    "xml_data = BeautifulSoup(xml_content, 'lxml')\n",
    "\n",
    "# Use the function to parse the XML\n",
    "run_tag = xml_data.find('run')\n",
    "run_parsed_dict = parse_xml_to_dict(run_tag) if run_tag else {}"
   ]
  },
  {
   "cell_type": "code",
   "execution_count": 9,
   "id": "d7ce9c85",
   "metadata": {},
   "outputs": [
    {
     "data": {
      "text/plain": [
       "{'run_name': 'Flatness/thickness measurements',\n",
       " 'run_begin_timestamp': '2023-10-04 13:27:52.927779',\n",
       " 'run_end_timestamp': '2023-10-04 13:27:52.927779',\n",
       " 'initiated_by_user': 'None',\n",
       " 'location': 'CMU',\n",
       " 'comment_description': 'Measured flatness/thickness data'}"
      ]
     },
     "execution_count": 9,
     "metadata": {},
     "output_type": "execute_result"
    }
   ],
   "source": [
    "run_parsed_dict"
   ]
  },
  {
   "cell_type": "code",
   "execution_count": 13,
   "id": "ac644a93",
   "metadata": {},
   "outputs": [
    {
     "name": "stdout",
     "output_type": "stream",
     "text": [
      "Set superuser password: /nhgcal\n",
      "The column name to retrieve: inspector\n",
      "conditions for feature_name: Corner1\n",
      "conditions for value: X\n",
      "conditions for bp_name: FNAL3-2\n",
      "The inspector met with your specificied conditions is ----- ('simurthy',)\n"
     ]
    }
   ],
   "source": [
    "# %load ../view/view_a_cell.py\n",
    "import psycopg2\n",
    "import os\n",
    "import sys\n",
    "import csv\n",
    "import sys\n",
    "sys.path.append('../')\n",
    "from src.utils import connect_db\n",
    "\n",
    "conn = connect_db()\n",
    "cursor = conn.cursor()\n",
    "\n",
    "retrieving_col = input('The column name to retrieve: ')\n",
    "condition_1 = input('conditions for feature_name: ')\n",
    "condition_2 = input('conditions for value: ')\n",
    "condition_3 = input('conditions for bp_name: ')\n",
    "\n",
    "query = f\"\"\"\n",
    "SELECT {retrieving_col} FROM bp_inspect\n",
    "WHERE feature_name = %s AND value = %s AND bp_name = %s;\n",
    "\"\"\"\n",
    "\n",
    "search_conditions = (condition_1, condition_2, condition_3)\n",
    "\n",
    "cursor.execute(query, search_conditions)\n",
    "\n",
    "result = cursor.fetchall()\n",
    "print(f'The {retrieving_col} met with your specificied conditions is ----- {result[0]}')\n",
    "\n",
    "\n"
   ]
  },
  {
   "cell_type": "code",
   "execution_count": 15,
   "id": "30ed6944",
   "metadata": {},
   "outputs": [],
   "source": [
    "## tentative dictionary\n",
    "### {database column name: xml file tag}\n",
    "\n",
    "db_to_xml = {\"bp_name\":\"name\",\n",
    "             \"inspector\": \"initiated_by_user\",\n",
    "            \"comment\":\"comment_description\"}"
   ]
  },
  {
   "cell_type": "code",
   "execution_count": 16,
   "id": "d2361e4c",
   "metadata": {},
   "outputs": [
    {
     "data": {
      "text/plain": [
       "'simurthy'"
      ]
     },
     "execution_count": 16,
     "metadata": {},
     "output_type": "execute_result"
    }
   ],
   "source": [
    "db_column = 'inspector'\n",
    "xml_tag = db_to_xml[db_column]\n",
    "db_val = result[0][0]\n",
    "db_val"
   ]
  },
  {
   "cell_type": "code",
   "execution_count": 23,
   "id": "5e9c57e3",
   "metadata": {},
   "outputs": [
    {
     "data": {
      "text/plain": [
       "{'run_name': 'Flatness/thickness measurements',\n",
       " 'run_begin_timestamp': '2023-10-04 13:27:52.927779',\n",
       " 'run_end_timestamp': '2023-10-04 13:27:52.927779',\n",
       " 'initiated_by_user': 'simurthy',\n",
       " 'location': 'CMU',\n",
       " 'comment_description': 'Measured flatness/thickness data'}"
      ]
     },
     "execution_count": 23,
     "metadata": {},
     "output_type": "execute_result"
    }
   ],
   "source": [
    "run_parsed_dict[xml_tag] = db_val\n",
    "run_parsed_dict"
   ]
  },
  {
   "cell_type": "code",
   "execution_count": 24,
   "id": "acbddebe",
   "metadata": {},
   "outputs": [],
   "source": [
    "## replace a value in xml-originated dictionary\n",
    "for tag, text in run_parsed_dict.items():\n",
    "    run_tag.find(tag).string = text"
   ]
  },
  {
   "cell_type": "code",
   "execution_count": 25,
   "id": "75bc1ae5",
   "metadata": {},
   "outputs": [
    {
     "data": {
      "text/plain": [
       "<run>\n",
       "<run_name>Flatness/thickness measurements</run_name>\n",
       "<run_begin_timestamp>2023-10-04 13:27:52.927779</run_begin_timestamp>\n",
       "<run_end_timestamp>2023-10-04 13:27:52.927779</run_end_timestamp>\n",
       "<initiated_by_user>simurthy</initiated_by_user>\n",
       "<location>CMU</location>\n",
       "<comment_description>Measured flatness/thickness data</comment_description>\n",
       "</run>"
      ]
     },
     "execution_count": 25,
     "metadata": {},
     "output_type": "execute_result"
    }
   ],
   "source": [
    "run_tag"
   ]
  },
  {
   "cell_type": "code",
   "execution_count": 29,
   "id": "ace10df5",
   "metadata": {},
   "outputs": [
    {
     "data": {
      "text/plain": [
       "'<?xml version=\"1.0\" encoding=\"UTF-8\" standalone=\"yes\"?><html><body><root xmlns:xsi=\"http://www.w3.org/2001/XMLSchema-instance\">\\n<header>\\n<type>\\n<extension_table_name>SI_MODULE_BASEPLATE</extension_table_name>\\n<name>Si Module Baseplate Test Data</name>\\n</type>\\n<run>\\n<run_name>Flatness/thickness measurements</run_name>\\n<run_begin_timestamp>2023-10-04 13:27:52.927779</run_begin_timestamp>\\n<run_end_timestamp>2023-10-04 13:27:52.927779</run_end_timestamp>\\n<initiated_by_user>simurthy</initiated_by_user>\\n<location>CMU</location>\\n<comment_description>Measured flatness/thickness data</comment_description>\\n</run>\\n</header>\\n<data_set>\\n<comment_description>Upload measured data</comment_description>\\n<version>1</version>\\n<part mode=\"auto\">\\n<serial_number>320-BA-PF0-VR-00004</serial_number>\\n<kind_of_part>PCB/Kapton Baseplate LD Full</kind_of_part>\\n</part>\\n<data>\\n<flatness>0.062</flatness>\\n<thickness>1.219</thickness>\\n<grade>Green</grade>\\n<comments>None</comments>\\n</data>\\n</data_set>\\n</root></body></html>'"
      ]
     },
     "execution_count": 29,
     "metadata": {},
     "output_type": "execute_result"
    }
   ],
   "source": [
    "updated_xml = str(xml_data)\n",
    "updated_xml"
   ]
  },
  {
   "cell_type": "code",
   "execution_count": 35,
   "id": "70e81927",
   "metadata": {},
   "outputs": [],
   "source": [
    "## export to a new xml file and save it to a directory\n",
    "file_name = 'v2_' + xml_dir\n",
    "file_path = '../export/' + file_name\n",
    "\n",
    "with open(file_path,\"w\") as file:\n",
    "    file.write(updated_xml)"
   ]
  },
  {
   "cell_type": "markdown",
   "id": "41981230",
   "metadata": {},
   "source": [
    "## NEXT\n",
    "\n",
    "1. Confirm the XML tags -- Does the arrangement of tags remain the same?\n",
    "2. Create a dictionary that lets us convert the column name and xml tags"
   ]
  },
  {
   "cell_type": "code",
   "execution_count": null,
   "id": "923bdde1",
   "metadata": {},
   "outputs": [],
   "source": []
  }
 ],
 "metadata": {
  "kernelspec": {
   "display_name": "Python 3",
   "language": "python",
   "name": "python3"
  },
  "language_info": {
   "codemirror_mode": {
    "name": "ipython",
    "version": 3
   },
   "file_extension": ".py",
   "mimetype": "text/x-python",
   "name": "python",
   "nbconvert_exporter": "python",
   "pygments_lexer": "ipython3",
   "version": "3.7.6"
  }
 },
 "nbformat": 4,
 "nbformat_minor": 5
}
