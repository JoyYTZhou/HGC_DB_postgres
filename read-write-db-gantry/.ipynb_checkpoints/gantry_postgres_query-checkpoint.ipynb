{
 "cells": [
  {
   "cell_type": "code",
   "execution_count": 1,
   "id": "4a8cceac",
   "metadata": {},
   "outputs": [],
   "source": [
    "from postgres_tools import upload_PostgreSQL, request_PostgreSQL"
   ]
  },
  {
   "cell_type": "markdown",
   "id": "8996c8a1",
   "metadata": {},
   "source": [
    "# Query parts from the local database"
   ]
  },
  {
   "cell_type": "code",
   "execution_count": 2,
   "id": "27ce4a34",
   "metadata": {},
   "outputs": [
    {
     "data": {
      "text/plain": [
       "[('test-2023-12-07_FNAL10', '1.6396168', 'full', 'LD'),\n",
       " ('test-2023-12-07_FNAL9', '1.6024427999999997', 'full', 'LD'),\n",
       " ('test-2023-12-07_FNAL8', '1.6987892000000002', 'full', 'LD'),\n",
       " ('databased_demo_example', '1.6396168', 'full', 'LD')]"
      ]
     },
     "execution_count": 2,
     "metadata": {},
     "output_type": "execute_result"
    }
   ],
   "source": [
    "request_PostgreSQL('baseplate')\n",
    "# part_name, part_thickness, geometry, resolution"
   ]
  },
  {
   "cell_type": "code",
   "execution_count": 3,
   "id": "c2f382d2",
   "metadata": {},
   "outputs": [
    {
     "data": {
      "text/plain": [
       "[('test-2023-12-12_TWL-040', '1.8182563999999997', 'full', 'LD'),\n",
       " ('test-2023-12-12_TWL-008', '1.9440324000000002', 'full', 'LD'),\n",
       " ('test-2023-12-12_TWL-002', '1.9133451999999997', 'full', 'LD')]"
      ]
     },
     "execution_count": 3,
     "metadata": {},
     "output_type": "execute_result"
    }
   ],
   "source": [
    "request_PostgreSQL('hexaboard')\n",
    "# part_name, part_thickness, geometry, resolution"
   ]
  },
  {
   "cell_type": "markdown",
   "id": "a56d2442",
   "metadata": {},
   "source": [
    "# Write to the local database"
   ]
  },
  {
   "cell_type": "code",
   "execution_count": 4,
   "id": "c32a128f",
   "metadata": {},
   "outputs": [],
   "source": [
    "ind = '_10'\n",
    "proto_name = f'proto_demo{ind}'\n",
    "bp_name = f'bp_demo{ind}'\n",
    "sen_name = f'sensor_demo{ind}'\n",
    "position = 1\n",
    "region = 1\n",
    "ass_tray_id = 1\n",
    "comp_tray_id = 1\n",
    "put_id = 1\n",
    "tape_batch = 'xxx'\n",
    "epoxy_batch = 'xxx'\n",
    "operator = 'cmuperson'"
   ]
  },
  {
   "cell_type": "code",
   "execution_count": 5,
   "id": "214decb7",
   "metadata": {},
   "outputs": [
    {
     "name": "stdout",
     "output_type": "stream",
     "text": [
      "Connection successful. \n",
      "\n",
      "Data is successfully uploaded to the proto_assembly!\n"
     ]
    }
   ],
   "source": [
    "########## Upload Protomodule Assembly Data ###########\n",
    "\n",
    "db_upload_proto = [proto_name, bp_name, sen_name, position, region, ass_tray_id, comp_tray_id, put_id, tape_batch, epoxy_batch, operator]\n",
    "upload_PostgreSQL(table_name = 'proto_assembly', db_upload = db_upload_proto)"
   ]
  },
  {
   "cell_type": "code",
   "execution_count": 6,
   "id": "345775a1",
   "metadata": {},
   "outputs": [],
   "source": [
    "ind = '_15'\n",
    "module_name = f'module_demo{ind}'\n",
    "proto_name = f'proto_demo{ind}'\n",
    "hxb_name = f'hbx_demo{ind}'\n",
    "position = 1\n",
    "region = 1\n",
    "ass_tray_id = 1\n",
    "comp_tray_id = 2\n",
    "put_id = 2\n",
    "tape_batch = 'xxx'\n",
    "epoxy_batch = 'xxx'\n",
    "operator = 'cmuperson'"
   ]
  },
  {
   "cell_type": "code",
   "execution_count": 7,
   "id": "70ab89aa",
   "metadata": {},
   "outputs": [
    {
     "name": "stdout",
     "output_type": "stream",
     "text": [
      "Connection successful. \n",
      "\n",
      "Data is successfully uploaded to the module_assembly!\n"
     ]
    }
   ],
   "source": [
    "########## Upload Module Assembly Data ###########\n",
    "\n",
    "db_upload_mod = [module_name, proto_name, hxb_name, position, region, ass_tray_id, comp_tray_id, put_id, tape_batch, epoxy_batch, operator]\n",
    "upload_PostgreSQL(table_name = 'module_assembly', db_upload = db_upload_mod)"
   ]
  },
  {
   "cell_type": "code",
   "execution_count": null,
   "id": "8459f5ff",
   "metadata": {},
   "outputs": [],
   "source": []
  }
 ],
 "metadata": {
  "kernelspec": {
   "display_name": "Python 3 (ipykernel)",
   "language": "python",
   "name": "python3"
  },
  "language_info": {
   "codemirror_mode": {
    "name": "ipython",
    "version": 3
   },
   "file_extension": ".py",
   "mimetype": "text/x-python",
   "name": "python",
   "nbconvert_exporter": "python",
   "pygments_lexer": "ipython3",
   "version": "3.10.12"
  }
 },
 "nbformat": 4,
 "nbformat_minor": 5
}
