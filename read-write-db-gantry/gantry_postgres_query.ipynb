{
 "cells": [
  {
   "cell_type": "code",
   "execution_count": 1,
   "id": "4a8cceac",
   "metadata": {},
   "outputs": [],
   "source": [
    "from postgres_tools import upload_PostgreSQL, request_PostgreSQL"
   ]
  },
  {
   "cell_type": "markdown",
   "id": "8996c8a1",
   "metadata": {},
   "source": [
    "# Query parts from the local database"
   ]
  },
  {
   "cell_type": "code",
   "execution_count": 2,
   "id": "04dab6f9",
   "metadata": {},
   "outputs": [
    {
     "name": "stdout",
     "output_type": "stream",
     "text": [
      "<Record proto_name='PROTO_320-BA-CF0-VB-00004_200118' thickness='1.5049496' geometry='full' resolution='LD'>\n",
      "<Record proto_name='320-PL-F3CX-CM-0001' thickness='1.6721652' geometry='full' resolution='LD'>\n"
     ]
    }
   ],
   "source": [
    "result = await request_PostgreSQL('protomodule')\n",
    "for r in result: print(r)"
   ]
  },
  {
   "cell_type": "code",
   "execution_count": 3,
   "id": "27ce4a34",
   "metadata": {},
   "outputs": [
    {
     "name": "stdout",
     "output_type": "stream",
     "text": [
      "<Record bp_name='test-2023-12-07_FNAL10' thickness='1.6396168' geometry='full' resolution='LD'>\n",
      "<Record bp_name='test-2023-12-07_FNAL9' thickness='1.6024427999999997' geometry='full' resolution='LD'>\n",
      "<Record bp_name='test-2023-12-07_FNAL8' thickness='1.6987892000000002' geometry='full' resolution='LD'>\n",
      "<Record bp_name='databased_demo_example' thickness='1.6396168' geometry='full' resolution='LD'>\n",
      "\n",
      "\n",
      "dict_keys(['bp_name', 'thickness', 'geometry', 'resolution']) \n",
      "\n",
      "bp_name test-2023-12-07_FNAL10\n",
      "geometry full\n"
     ]
    }
   ],
   "source": [
    "result = await request_PostgreSQL('baseplate')\n",
    "for r in result: print(r)\n",
    "\n",
    "print('\\n')\n",
    "print(dict(result[0]).keys(),'\\n') ### convert to dictionary and get keys\n",
    "\n",
    "print('bp_name',result[0]['bp_name'])\n",
    "\n",
    "print('geometry', result[0]['geometry'])\n",
    "# part_name, part_thickness, geometry, resolution"
   ]
  },
  {
   "cell_type": "markdown",
   "id": "a56d2442",
   "metadata": {},
   "source": [
    "# Write to the local database"
   ]
  },
  {
   "cell_type": "code",
   "execution_count": 4,
   "id": "c32a128f",
   "metadata": {},
   "outputs": [],
   "source": [
    "ind = '_10'\n",
    "proto_name = f'proto_demo{ind}'\n",
    "bp_name = f'bp_demo{ind}'\n",
    "sen_name = f'sensor_demo{ind}'\n",
    "position = 1\n",
    "region = 1\n",
    "ass_tray_id = 1\n",
    "comp_tray_id = 1\n",
    "put_id = 1\n",
    "tape_batch = 'xxx'\n",
    "epoxy_batch = 'xxx'\n",
    "operator = 'cmuperson'"
   ]
  },
  {
   "cell_type": "code",
   "execution_count": 5,
   "id": "214decb7",
   "metadata": {},
   "outputs": [
    {
     "name": "stdout",
     "output_type": "stream",
     "text": [
      "Connection successful.\n",
      "\n",
      "Data is successfully uploaded to the proto_assembly!\n"
     ]
    }
   ],
   "source": [
    "########## Upload Protomodule Assembly Data ###########\n",
    "\n",
    "db_upload_proto = [proto_name, bp_name, sen_name, position, region, ass_tray_id, comp_tray_id, put_id, tape_batch, epoxy_batch, operator]\n",
    "await upload_PostgreSQL(table_name = 'proto_assembly', db_upload = db_upload_proto)"
   ]
  },
  {
   "cell_type": "code",
   "execution_count": 6,
   "id": "345775a1",
   "metadata": {},
   "outputs": [],
   "source": [
    "ind = '_15'\n",
    "module_name = f'module_demo{ind}'\n",
    "proto_name = f'proto_demo{ind}'\n",
    "hxb_name = f'hbx_demo{ind}'\n",
    "position = 1\n",
    "region = 1\n",
    "ass_tray_id = 1\n",
    "comp_tray_id = 2\n",
    "put_id = 2\n",
    "tape_batch = 'xxx'\n",
    "epoxy_batch = 'xxx'\n",
    "operator = 'cmuperson'"
   ]
  },
  {
   "cell_type": "code",
   "execution_count": 7,
   "id": "70ab89aa",
   "metadata": {},
   "outputs": [
    {
     "name": "stdout",
     "output_type": "stream",
     "text": [
      "Connection successful.\n",
      "\n",
      "Data is successfully uploaded to the module_assembly!\n"
     ]
    }
   ],
   "source": [
    "########## Upload Module Assembly Data ###########\n",
    "\n",
    "db_upload_mod = [module_name, proto_name, hxb_name, position, region, ass_tray_id, comp_tray_id, put_id, tape_batch, epoxy_batch, operator]\n",
    "await upload_PostgreSQL(table_name = 'module_assembly', db_upload = db_upload_mod)"
   ]
  },
  {
   "cell_type": "code",
   "execution_count": null,
   "id": "61beb220",
   "metadata": {},
   "outputs": [],
   "source": []
  }
 ],
 "metadata": {
  "kernelspec": {
   "display_name": "Python 3 (ipykernel)",
   "language": "python",
   "name": "python3"
  },
  "language_info": {
   "codemirror_mode": {
    "name": "ipython",
    "version": 3
   },
   "file_extension": ".py",
   "mimetype": "text/x-python",
   "name": "python",
   "nbconvert_exporter": "python",
   "pygments_lexer": "ipython3",
   "version": "3.10.12"
  }
 },
 "nbformat": 4,
 "nbformat_minor": 5
}
