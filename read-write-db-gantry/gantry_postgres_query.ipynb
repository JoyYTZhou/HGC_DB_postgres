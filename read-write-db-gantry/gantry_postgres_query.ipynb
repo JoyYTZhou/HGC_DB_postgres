{
 "cells": [
  {
   "cell_type": "code",
   "execution_count": 2,
   "id": "4a8cceac",
   "metadata": {},
   "outputs": [],
   "source": [
    "from postgres_tools import upload_PostgreSQL, request_PostgreSQL"
   ]
  },
  {
   "cell_type": "markdown",
   "id": "8996c8a1",
   "metadata": {},
   "source": [
    "# Query parts from the local database"
   ]
  },
  {
   "cell_type": "code",
   "execution_count": 2,
   "id": "1ac01574",
   "metadata": {},
   "outputs": [
    {
     "name": "stdout",
     "output_type": "stream",
     "text": [
      "<Record proto_name='PROTO_320-BA-CF0-VB-00004_200118' thickness='1.5049496' geometry='full' resolution='LD'>\n",
      "<Record proto_name='320-PL-F3CX-CM-0001' thickness='1.6721652' geometry='full' resolution='LD'>\n"
     ]
    }
   ],
   "source": [
    "result = await request_PostgreSQL('protomodule')\n",
    "for r in result: print(r)"
   ]
  },
  {
   "cell_type": "code",
   "execution_count": 3,
   "id": "27ce4a34",
   "metadata": {},
   "outputs": [
    {
     "name": "stdout",
     "output_type": "stream",
     "text": [
      "<Record bp_name='test-2023-12-07_FNAL10' thickness='1.6396168' geometry='full' resolution='LD'>\n",
      "<Record bp_name='test-2023-12-07_FNAL9' thickness='1.6024427999999997' geometry='full' resolution='LD'>\n",
      "<Record bp_name='test-2023-12-07_FNAL8' thickness='1.6987892000000002' geometry='full' resolution='LD'>\n",
      "<Record bp_name='databased_demo_example' thickness='1.6396168' geometry='full' resolution='LD'>\n",
      "\n",
      "\n",
      "dict_keys(['bp_name', 'thickness', 'geometry', 'resolution']) \n",
      "\n",
      "bp_name test-2023-12-07_FNAL10\n",
      "geometry full\n"
     ]
    }
   ],
   "source": [
    "result = await request_PostgreSQL('baseplate')\n",
    "for r in result: print(r)\n",
    "\n",
    "print('\\n')\n",
    "print(dict(result[0]).keys(),'\\n') ### convert to dictionary and get keys\n",
    "\n",
    "print('bp_name',result[0]['bp_name'])\n",
    "\n",
    "print('geometry', result[0]['geometry'])\n",
    "# part_name, part_thickness, geometry, resolution"
   ]
  },
  {
   "cell_type": "markdown",
   "id": "a56d2442",
   "metadata": {},
   "source": [
    "# Write to the local database"
   ]
  },
  {
   "cell_type": "code",
   "execution_count": 4,
   "id": "c32a128f",
   "metadata": {},
   "outputs": [],
   "source": [
    "ind = '_10'\n",
    "proto_name = f'proto_demo{ind}'\n",
    "bp_name = f'bp_demo{ind}'\n",
    "sen_name = f'sensor_demo{ind}'\n",
    "position = 1\n",
    "region = 1\n",
    "ass_tray_id = 1\n",
    "comp_tray_id = 1\n",
    "put_id = 1\n",
    "tape_batch = 'xxx'\n",
    "epoxy_batch = 'xxx'\n",
    "operator = 'cmuperson'"
   ]
  },
  {
   "cell_type": "code",
   "execution_count": 9,
   "id": "214decb7",
   "metadata": {},
   "outputs": [
    {
     "name": "stdout",
     "output_type": "stream",
     "text": [
      "Connection successful.\n",
      "\n"
     ]
    },
    {
     "ename": "PostgresSyntaxError",
     "evalue": "syntax error at or near \"%\"",
     "output_type": "error",
     "traceback": [
      "\u001b[0;31m---------------------------------------------------------------------------\u001b[0m",
      "\u001b[0;31mPostgresSyntaxError\u001b[0m                       Traceback (most recent call last)",
      "\u001b[0;32m/tmp/user/13376/ipykernel_46509/751980441.py\u001b[0m in \u001b[0;36m<module>\u001b[0;34m\u001b[0m\n\u001b[1;32m      2\u001b[0m \u001b[0;34m\u001b[0m\u001b[0m\n\u001b[1;32m      3\u001b[0m \u001b[0mdb_upload_proto\u001b[0m \u001b[0;34m=\u001b[0m \u001b[0;34m[\u001b[0m\u001b[0mproto_name\u001b[0m\u001b[0;34m,\u001b[0m \u001b[0mbp_name\u001b[0m\u001b[0;34m,\u001b[0m \u001b[0msen_name\u001b[0m\u001b[0;34m,\u001b[0m \u001b[0mposition\u001b[0m\u001b[0;34m,\u001b[0m \u001b[0mregion\u001b[0m\u001b[0;34m,\u001b[0m \u001b[0mass_tray_id\u001b[0m\u001b[0;34m,\u001b[0m \u001b[0mcomp_tray_id\u001b[0m\u001b[0;34m,\u001b[0m \u001b[0mput_id\u001b[0m\u001b[0;34m,\u001b[0m \u001b[0mtape_batch\u001b[0m\u001b[0;34m,\u001b[0m \u001b[0mepoxy_batch\u001b[0m\u001b[0;34m,\u001b[0m \u001b[0moperator\u001b[0m\u001b[0;34m]\u001b[0m\u001b[0;34m\u001b[0m\u001b[0;34m\u001b[0m\u001b[0m\n\u001b[0;32m----> 4\u001b[0;31m \u001b[0;32mawait\u001b[0m \u001b[0mupload_PostgreSQL\u001b[0m\u001b[0;34m(\u001b[0m\u001b[0mtable_name\u001b[0m \u001b[0;34m=\u001b[0m \u001b[0;34m'proto_assembly'\u001b[0m\u001b[0;34m,\u001b[0m \u001b[0mdb_upload\u001b[0m \u001b[0;34m=\u001b[0m \u001b[0mdb_upload_proto\u001b[0m\u001b[0;34m)\u001b[0m\u001b[0;34m\u001b[0m\u001b[0;34m\u001b[0m\u001b[0m\n\u001b[0m",
      "\u001b[0;32m~/Documents/HGC_DB_postgres/read-write-db-gantry/postgres_tools.py\u001b[0m in \u001b[0;36mupload_PostgreSQL\u001b[0;34m(table_name, db_upload)\u001b[0m\n\u001b[1;32m     58\u001b[0m     \u001b[0;32mif\u001b[0m \u001b[0mtable_exists\u001b[0m\u001b[0;34m:\u001b[0m\u001b[0;34m\u001b[0m\u001b[0;34m\u001b[0m\u001b[0m\n\u001b[1;32m     59\u001b[0m         \u001b[0mquery\u001b[0m \u001b[0;34m=\u001b[0m \u001b[0mget_query\u001b[0m\u001b[0;34m(\u001b[0m\u001b[0mtable_name\u001b[0m\u001b[0;34m)\u001b[0m\u001b[0;34m\u001b[0m\u001b[0;34m\u001b[0m\u001b[0m\n\u001b[0;32m---> 60\u001b[0;31m         \u001b[0;32mawait\u001b[0m \u001b[0mconn\u001b[0m\u001b[0;34m.\u001b[0m\u001b[0mexecute\u001b[0m\u001b[0;34m(\u001b[0m\u001b[0mquery\u001b[0m\u001b[0;34m,\u001b[0m \u001b[0;34m*\u001b[0m\u001b[0mdb_upload\u001b[0m\u001b[0;34m)\u001b[0m\u001b[0;34m\u001b[0m\u001b[0;34m\u001b[0m\u001b[0m\n\u001b[0m\u001b[1;32m     61\u001b[0m         \u001b[0mprint\u001b[0m\u001b[0;34m(\u001b[0m\u001b[0;34mf'Data is successfully uploaded to the {table_name}!'\u001b[0m\u001b[0;34m)\u001b[0m\u001b[0;34m\u001b[0m\u001b[0;34m\u001b[0m\u001b[0m\n\u001b[1;32m     62\u001b[0m     \u001b[0;32melse\u001b[0m\u001b[0;34m:\u001b[0m\u001b[0;34m\u001b[0m\u001b[0;34m\u001b[0m\u001b[0m\n",
      "\u001b[0;32m~/.local/lib/python3.10/site-packages/asyncpg/connection.py\u001b[0m in \u001b[0;36mexecute\u001b[0;34m(self, query, timeout, *args)\u001b[0m\n\u001b[1;32m    351\u001b[0m             \u001b[0;32mreturn\u001b[0m \u001b[0mresult\u001b[0m\u001b[0;34m\u001b[0m\u001b[0;34m\u001b[0m\u001b[0m\n\u001b[1;32m    352\u001b[0m \u001b[0;34m\u001b[0m\u001b[0m\n\u001b[0;32m--> 353\u001b[0;31m         _, status, _ = await self._execute(\n\u001b[0m\u001b[1;32m    354\u001b[0m             \u001b[0mquery\u001b[0m\u001b[0;34m,\u001b[0m\u001b[0;34m\u001b[0m\u001b[0;34m\u001b[0m\u001b[0m\n\u001b[1;32m    355\u001b[0m             \u001b[0margs\u001b[0m\u001b[0;34m,\u001b[0m\u001b[0;34m\u001b[0m\u001b[0;34m\u001b[0m\u001b[0m\n",
      "\u001b[0;32m~/.local/lib/python3.10/site-packages/asyncpg/connection.py\u001b[0m in \u001b[0;36m_execute\u001b[0;34m(self, query, args, limit, timeout, return_status, ignore_custom_codec, record_class)\u001b[0m\n\u001b[1;32m   1792\u001b[0m     ):\n\u001b[1;32m   1793\u001b[0m         \u001b[0;32mwith\u001b[0m \u001b[0mself\u001b[0m\u001b[0;34m.\u001b[0m\u001b[0m_stmt_exclusive_section\u001b[0m\u001b[0;34m:\u001b[0m\u001b[0;34m\u001b[0m\u001b[0;34m\u001b[0m\u001b[0m\n\u001b[0;32m-> 1794\u001b[0;31m             result, _ = await self.__execute(\n\u001b[0m\u001b[1;32m   1795\u001b[0m                 \u001b[0mquery\u001b[0m\u001b[0;34m,\u001b[0m\u001b[0;34m\u001b[0m\u001b[0;34m\u001b[0m\u001b[0m\n\u001b[1;32m   1796\u001b[0m                 \u001b[0margs\u001b[0m\u001b[0;34m,\u001b[0m\u001b[0;34m\u001b[0m\u001b[0;34m\u001b[0m\u001b[0m\n",
      "\u001b[0;32m~/.local/lib/python3.10/site-packages/asyncpg/connection.py\u001b[0m in \u001b[0;36m__execute\u001b[0;34m(self, query, args, limit, timeout, return_status, ignore_custom_codec, record_class)\u001b[0m\n\u001b[1;32m   1890\u001b[0m                 )\n\u001b[1;32m   1891\u001b[0m         \u001b[0;32melse\u001b[0m\u001b[0;34m:\u001b[0m\u001b[0;34m\u001b[0m\u001b[0;34m\u001b[0m\u001b[0m\n\u001b[0;32m-> 1892\u001b[0;31m             result, stmt = await self._do_execute(\n\u001b[0m\u001b[1;32m   1893\u001b[0m                 \u001b[0mquery\u001b[0m\u001b[0;34m,\u001b[0m\u001b[0;34m\u001b[0m\u001b[0;34m\u001b[0m\u001b[0m\n\u001b[1;32m   1894\u001b[0m                 \u001b[0mexecutor\u001b[0m\u001b[0;34m,\u001b[0m\u001b[0;34m\u001b[0m\u001b[0;34m\u001b[0m\u001b[0m\n",
      "\u001b[0;32m~/.local/lib/python3.10/site-packages/asyncpg/connection.py\u001b[0m in \u001b[0;36m_do_execute\u001b[0;34m(self, query, executor, timeout, retry, ignore_custom_codec, record_class)\u001b[0m\n\u001b[1;32m   1923\u001b[0m     ):\n\u001b[1;32m   1924\u001b[0m         \u001b[0;32mif\u001b[0m \u001b[0mtimeout\u001b[0m \u001b[0;32mis\u001b[0m \u001b[0;32mNone\u001b[0m\u001b[0;34m:\u001b[0m\u001b[0;34m\u001b[0m\u001b[0;34m\u001b[0m\u001b[0m\n\u001b[0;32m-> 1925\u001b[0;31m             stmt = await self._get_statement(\n\u001b[0m\u001b[1;32m   1926\u001b[0m                 \u001b[0mquery\u001b[0m\u001b[0;34m,\u001b[0m\u001b[0;34m\u001b[0m\u001b[0;34m\u001b[0m\u001b[0m\n\u001b[1;32m   1927\u001b[0m                 \u001b[0;32mNone\u001b[0m\u001b[0;34m,\u001b[0m\u001b[0;34m\u001b[0m\u001b[0;34m\u001b[0m\u001b[0m\n",
      "\u001b[0;32m~/.local/lib/python3.10/site-packages/asyncpg/connection.py\u001b[0m in \u001b[0;36m_get_statement\u001b[0;34m(self, query, timeout, named, use_cache, ignore_custom_codec, record_class)\u001b[0m\n\u001b[1;32m    431\u001b[0m             \u001b[0mstmt_name\u001b[0m \u001b[0;34m=\u001b[0m \u001b[0;34m''\u001b[0m\u001b[0;34m\u001b[0m\u001b[0;34m\u001b[0m\u001b[0m\n\u001b[1;32m    432\u001b[0m \u001b[0;34m\u001b[0m\u001b[0m\n\u001b[0;32m--> 433\u001b[0;31m         statement = await self._protocol.prepare(\n\u001b[0m\u001b[1;32m    434\u001b[0m             \u001b[0mstmt_name\u001b[0m\u001b[0;34m,\u001b[0m\u001b[0;34m\u001b[0m\u001b[0;34m\u001b[0m\u001b[0m\n\u001b[1;32m    435\u001b[0m             \u001b[0mquery\u001b[0m\u001b[0;34m,\u001b[0m\u001b[0;34m\u001b[0m\u001b[0;34m\u001b[0m\u001b[0m\n",
      "\u001b[0;32m~/.local/lib/python3.10/site-packages/asyncpg/protocol/protocol.pyx\u001b[0m in \u001b[0;36mprepare\u001b[0;34m()\u001b[0m\n",
      "\u001b[0;31mPostgresSyntaxError\u001b[0m: syntax error at or near \"%\""
     ]
    }
   ],
   "source": [
    "########## Upload Protomodule Assembly Data ###########\n",
    "\n",
    "db_upload_proto = [proto_name, bp_name, sen_name, position, region, ass_tray_id, comp_tray_id, put_id, tape_batch, epoxy_batch, operator]\n",
    "await upload_PostgreSQL(table_name = 'proto_assembly', db_upload = db_upload_proto)"
   ]
  },
  {
   "cell_type": "code",
   "execution_count": 3,
   "id": "345775a1",
   "metadata": {},
   "outputs": [],
   "source": [
    "ind = '_15'\n",
    "module_name = f'module_demo{ind}'\n",
    "proto_name = f'proto_demo{ind}'\n",
    "hxb_name = f'hbx_demo{ind}'\n",
    "position = 1\n",
    "region = 1\n",
    "ass_tray_id = 1\n",
    "comp_tray_id = 2\n",
    "put_id = 2\n",
    "tape_batch = 'xxx'\n",
    "epoxy_batch = 'xxx'\n",
    "operator = 'cmuperson'"
   ]
  },
  {
   "cell_type": "code",
   "execution_count": 4,
   "id": "70ab89aa",
   "metadata": {},
   "outputs": [
    {
     "name": "stdout",
     "output_type": "stream",
     "text": [
      "Connection successful.\n",
      "\n",
      " \n",
      "    INSERT INTO module_assembly \n",
      "    (module_name, proto_name, hxb_name, position, region, ass_tray_id, comp_tray_id, put_id, tape_batch, epoxy_batch, operator)\n",
      "    VALUES    ($1, $2, $3, $4, $5, $6, $7, $8, $9, $10, $11)\n",
      "Data is successfully uploaded to the module_assembly!\n"
     ]
    }
   ],
   "source": [
    "########## Upload Module Assembly Data ###########\n",
    "\n",
    "db_upload_mod = [module_name, proto_name, hxb_name, position, region, ass_tray_id, comp_tray_id, put_id, tape_batch, epoxy_batch, operator]\n",
    "await upload_PostgreSQL(table_name = 'module_assembly', db_upload = db_upload_mod)"
   ]
  },
  {
   "cell_type": "code",
   "execution_count": null,
   "id": "542bd603",
   "metadata": {},
   "outputs": [],
   "source": []
  }
 ],
 "metadata": {
  "kernelspec": {
   "display_name": "Python 3 (ipykernel)",
   "language": "python",
   "name": "python3"
  },
  "language_info": {
   "codemirror_mode": {
    "name": "ipython",
    "version": 3
   },
   "file_extension": ".py",
   "mimetype": "text/x-python",
   "name": "python",
   "nbconvert_exporter": "python",
   "pygments_lexer": "ipython3",
   "version": "3.10.12"
  }
 },
 "nbformat": 4,
 "nbformat_minor": 5
}
