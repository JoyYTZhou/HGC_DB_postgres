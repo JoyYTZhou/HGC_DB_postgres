{
 "cells": [
  {
   "cell_type": "code",
   "execution_count": 1,
   "id": "597cfd4e",
   "metadata": {},
   "outputs": [],
   "source": [
    "import psycopg2\n",
    "import os\n",
    "import csv\n",
    "import sys\n",
    "sys.path.append('../')\n",
    "from psycopg2 import sql\n",
    "import numpy as np\n",
    "import json\n",
    "from src.utils import connect_db, get_table_name"
   ]
  },
  {
   "cell_type": "code",
   "execution_count": 10,
   "id": "7ecc1b4c",
   "metadata": {},
   "outputs": [
    {
     "data": {
      "text/plain": [
       "array([  0.,  20.,  40.,  60.,  80., 100., 120., 140., 160., 180., 200.,\n",
       "       220., 240., 260., 280., 300., 320., 340., 360., 380., 400., 420.,\n",
       "       440., 460., 480., 500., 520., 540., 560., 580., 600., 620., 640.,\n",
       "       660., 680., 700., 720., 740., 760., 780., 800.])"
      ]
     },
     "execution_count": 10,
     "metadata": {},
     "output_type": "execute_result"
    }
   ],
   "source": [
    "dct['data'][:, 0]"
   ]
  },
  {
   "cell_type": "code",
   "execution_count": 14,
   "id": "868c7b1c",
   "metadata": {},
   "outputs": [
    {
     "name": "stdout",
     "output_type": "stream",
     "text": [
      "Get superuser password: hgcal\n",
      "Database name: testdb3\n",
      "Connection successful. \n",
      "\n",
      "Data is successfully uploaded to the module_test!\n"
     ]
    }
   ],
   "source": [
    "import pickle as pkl\n",
    "with open(r\"320-ML-F3CX-CM-0001_IVset_2023-11-27__0.pkl\", \"rb\") as input_file:\n",
    "    dct = pkl.load(input_file)\n",
    "\n",
    "table_name = 'module_test'\n",
    "date_test = dct['date']\n",
    "time_test = dct['time']\n",
    "rel_hum = dct['RH']\n",
    "prog_v = (dct['data'][:, 0]).tolist()\n",
    "meas_v = (dct['data'][:, 1]).tolist()\n",
    "meas_i = (dct['data'][:, 2]).tolist()\n",
    "meas_r = (dct['data'][:, 3]).tolist()\n",
    "inspector = 'acrobert'\n",
    "module_no = 2\n",
    "module_name = '320-ML-F3CX-CM-0001'\n",
    "comments = None\n",
    "\n",
    "\n",
    "def upload_PostgreSQL_testing(table_name,\n",
    "                      module_no,\n",
    "                       rel_hum,\n",
    "                       prog_v,\n",
    "                       meas_v,\n",
    "                        meas_i,\n",
    "                        meas_r,\n",
    "                       inspector,\n",
    "                       comments):\n",
    "    \n",
    "    conn = connect_db()\n",
    "    cursor = conn.cursor()\n",
    "    print('Connection successful. \\n')\n",
    "\n",
    "    schema_name = 'public'\n",
    "    table_exists_query = sql.SQL(\"SELECT EXISTS (SELECT 1 FROM information_schema.tables WHERE table_schema = %s AND table_name = %s);\")\n",
    "    cursor.execute(table_exists_query, [schema_name, table_name])\n",
    "    table_exists = cursor.fetchone()[0]## this gives true/false\n",
    "    \n",
    "    data = (module_no,\n",
    "                       rel_hum,\n",
    "                       prog_v,\n",
    "                       meas_v,\n",
    "                         meas_i,\n",
    "                        meas_r,\n",
    "                       inspector)\n",
    "    \n",
    "    query = f\"\"\" \n",
    "    INSERT INTO {table_name} \n",
    "    (module_no, rel_hum, prog_v, meas_v, meas_i, meas_r, inspector)\n",
    "    VALUES (%s, %s, %s, %s, %s, %s, %s)\n",
    "    \"\"\"\n",
    "\n",
    "\n",
    "    \n",
    "    if table_exists:\n",
    "        cursor.execute(query, tuple(data))\n",
    "        conn.commit()\n",
    "        print(f'Data is successfully uploaded to the {table_name}!')\n",
    "    \n",
    "    else:\n",
    "        print(f'Table {table_name} does not exist in the database.')\n",
    "        \n",
    "\n",
    "    cursor.close(); conn.close();\n",
    "    \n",
    "    return None\n",
    "\n",
    "\n",
    "upload_PostgreSQL_testing(table_name,\n",
    "                      module_no,\n",
    "                       rel_hum,\n",
    "                       prog_v,\n",
    "                       meas_v,\n",
    "                           meas_i,\n",
    "                        meas_r,\n",
    "                       inspector,\n",
    "                       comments)"
   ]
  },
  {
   "cell_type": "code",
   "execution_count": 15,
   "id": "4cf4759f",
   "metadata": {},
   "outputs": [
    {
     "name": "stdout",
     "output_type": "stream",
     "text": [
      "('acrobert',)\n"
     ]
    }
   ],
   "source": [
    "conn = psycopg2.connect(\n",
    "        host = 'localhost',\n",
    "        database = 'testdb3',\n",
    "        user = 'postgres',\n",
    "        password = 'hgcal')\n",
    "\n",
    "cursor = conn.cursor()\n",
    "cursor.execute(\"\"\"\n",
    "SELECT inspector\n",
    "    FROM module_test\n",
    "    WHERE module_no = '1'\n",
    "\"\"\")\n",
    "\n",
    "value = cursor.fetchone()\n",
    "print(value)\n",
    "cursor.close(); conn.close();"
   ]
  },
  {
   "cell_type": "code",
   "execution_count": 4,
   "id": "6e58e0f2",
   "metadata": {},
   "outputs": [
    {
     "name": "stdout",
     "output_type": "stream",
     "text": [
      "('test',)\n"
     ]
    }
   ],
   "source": [
    "conn = psycopg2.connect(\n",
    "        host = 'localhost',\n",
    "        database = 'testdb3',\n",
    "        user = 'postgres',\n",
    "        password = 'hgcal')\n",
    "\n",
    "cursor = conn.cursor()\n",
    "cursor.execute(\"\"\"\n",
    "SELECT bp_name\n",
    "from bp_inspect\n",
    "where geometry = 'full'\n",
    "\"\"\")\n",
    "\n",
    "value = cursor.fetchone()\n",
    "print(value)\n",
    "cursor.close(); conn.close();"
   ]
  },
  {
   "cell_type": "code",
   "execution_count": 5,
   "id": "46988880",
   "metadata": {},
   "outputs": [
    {
     "name": "stdout",
     "output_type": "stream",
     "text": [
      "Get superuser password: hgcal\n",
      "Database name: testdb3\n",
      "Connection successful. \n",
      "\n",
      "Value returned: ('acrobert',)\n"
     ]
    }
   ],
   "source": [
    "def read_PostgreSQL_testing(table_name):\n",
    "    \n",
    "    conn = connect_db()\n",
    "    cursor = conn.cursor()\n",
    "    print('Connection successful. \\n')\n",
    "\n",
    "    schema_name = 'public'\n",
    "    table_exists_query = sql.SQL(\"SELECT EXISTS (SELECT 1 FROM information_schema.tables WHERE table_schema = %s AND table_name = %s);\")\n",
    "    cursor.execute(table_exists_query, [schema_name, table_name])\n",
    "    table_exists = cursor.fetchone()[0]## this gives true/false\n",
    "    \n",
    "    query = f\"\"\" \n",
    "    SELECT inspector\n",
    "    FROM module_test\n",
    "    WHERE module_no = '1'\n",
    "    \"\"\"  \n",
    "\n",
    "    \n",
    "    if table_exists:\n",
    "        cursor.execute(query)\n",
    "        value = cursor.fetchone()\n",
    "        print('Value returned:',value)\n",
    "    \n",
    "    else:\n",
    "        print(f'Table {table_name} does not exist in the database.')\n",
    "        \n",
    "    ## close connection\n",
    "    cursor.close()\n",
    "    conn.close()\n",
    "    \n",
    "    return None\n",
    "\n",
    "read_PostgreSQL_testing(table_name = 'module_test')"
   ]
  },
  {
   "cell_type": "code",
   "execution_count": null,
   "id": "dd089e35",
   "metadata": {},
   "outputs": [],
   "source": []
  },
  {
   "cell_type": "code",
   "execution_count": null,
   "id": "0a670158",
   "metadata": {},
   "outputs": [],
   "source": []
  },
  {
   "cell_type": "code",
   "execution_count": null,
   "id": "e895ad8a",
   "metadata": {},
   "outputs": [],
   "source": []
  },
  {
   "cell_type": "code",
   "execution_count": null,
   "id": "455fee64",
   "metadata": {},
   "outputs": [],
   "source": [
    "\n",
    "\n",
    "def upload_PostgreSQL_testing(table_name,\n",
    "                      proto_name,\n",
    "                       material,\n",
    "                       geometry,\n",
    "                       resolution,\n",
    "                       thickness,\n",
    "                       actual_X,\n",
    "                       actual_Y,\n",
    "                       actual_Z,\n",
    "                       flatness,\n",
    "                       inspectDate,\n",
    "                       inspectTime,\n",
    "                       comments):\n",
    "    \n",
    "    conn = connect_db()\n",
    "    cursor = conn.cursor()\n",
    "    print('Connection successful. \\n')\n",
    "\n",
    "    schema_name = 'public'\n",
    "    table_exists_query = sql.SQL(\"SELECT EXISTS (SELECT 1 FROM information_schema.tables WHERE table_schema = %s AND table_name = %s);\")\n",
    "    cursor.execute(table_exists_query, [schema_name, table_name])\n",
    "    table_exists = cursor.fetchone()[0]## this gives true/false\n",
    "    \n",
    "    query = f\"\"\" \n",
    "    INSERT INTO {table_name} \n",
    "    (proto_name, thickness, actual_x, actual_y, actual_z,  flatness,   inspector, comment)\n",
    "    VALUES (%s, %s, %s, %s, %s, %s, %s, %s)\n",
    "    \"\"\"\n",
    "    # date_inspect, time_inspect,\n",
    "\n",
    "    \n",
    "    from datetime import datetime\n",
    "    print(datetime.now().strftime(\"%Y-%m-%d\"),datetime.now().strftime(\"%H%M%S\"))\n",
    "    data = (proto_name, thickness, actual_X.tolist(), actual_Y.tolist(), actual_Z.tolist(),flatness, #str(datetime.now().strftime(\"%Y-%m-%d\")),str(datetime.now().strftime(\"%H%M%S\")),\n",
    "            inspector, comments)\n",
    "    print(tuple(data))\n",
    "    if table_exists:\n",
    "        cursor.execute(query, tuple(data))\n",
    "        conn.commit()\n",
    "        print(f'Data is successfully uploaded to the {table_name}!')\n",
    "    \n",
    "    else:\n",
    "        print(f'Table {table_name} does not exist in the database.')\n",
    "        \n",
    "    ## close connection\n",
    "    cursor.close()\n",
    "    conn.close()\n",
    "    \n",
    "    return None\n",
    "\n",
    "\n",
    "\n",
    "inspector = 'cmu_person'\n",
    "resolution = 'LD'\n",
    "geometry = 'full'\n",
    "material = 'cf'\n",
    "proto_name='test2'\n",
    "comments = 'none'\n",
    "flatness = '0'\n",
    "inspectDate, inspectTime = 0,0\n",
    "sensor_Heights = np.loadtxt('sensor_Heights.txt')\n",
    "actual_X, actual_Y, actual_Z = sensor_Heights[0], sensor_Heights[1], sensor_Heights[2]\n",
    "print(actual_X.tolist())\n",
    "thickness = np.mean(actual_Z)\n",
    "table_name = \"proto_inspect\"\n",
    "print('Data Obtained')\n",
    "upload_PostgreSQL(table_name,\n",
    "                    proto_name,\n",
    "                       material,\n",
    "                       geometry,\n",
    "                       resolution,\n",
    "                       thickness,\n",
    "                       actual_X,\n",
    "                       actual_Y,\n",
    "                       actual_Z,\n",
    "                       flatness,\n",
    "                       inspectDate,\n",
    "                       inspectTime,\n",
    "                       comments)\n"
   ]
  }
 ],
 "metadata": {
  "kernelspec": {
   "display_name": "Python 3 (ipykernel)",
   "language": "python",
   "name": "python3"
  },
  "language_info": {
   "codemirror_mode": {
    "name": "ipython",
    "version": 3
   },
   "file_extension": ".py",
   "mimetype": "text/x-python",
   "name": "python",
   "nbconvert_exporter": "python",
   "pygments_lexer": "ipython3",
   "version": "3.10.12"
  }
 },
 "nbformat": 4,
 "nbformat_minor": 5
}
