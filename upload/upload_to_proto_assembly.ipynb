{
 "cells": [
  {
   "cell_type": "code",
   "execution_count": 1,
   "id": "1c0f572c",
   "metadata": {},
   "outputs": [],
   "source": [
    "import psycopg2\n",
    "import os\n",
    "import csv\n",
    "import sys\n",
    "sys.path.append('../')\n",
    "from psycopg2 import sql\n",
    "import numpy as np\n",
    "\n",
    "from src.utils import connect_db, get_table_name\n",
    "from upload.upload_PostgreSQL import upload_PostgreSQL\n",
    "# from create.create_tables import get_table_info, get_column_names"
   ]
  },
  {
   "cell_type": "code",
   "execution_count": null,
   "id": "1bfff090",
   "metadata": {},
   "outputs": [],
   "source": []
  },
  {
   "cell_type": "code",
   "execution_count": 3,
   "id": "5aa3a9ef",
   "metadata": {},
   "outputs": [
    {
     "name": "stdout",
     "output_type": "stream",
     "text": [
      "[133.83667, 149.79117, 178.76729, 210.39729, 220.83415, 217.92127, 219.63354, 211.09385, 178.42969, 147.72378, 133.0574, 99.69919, 71.7943, 61.75042, 61.88726, 62.04552, 65.48081, 101.53708, 116.79271, 160.3848, 178.3835, 162.80256, 116.40882, 103.87269, 144.41987]\n",
      "Data Obtained\n",
      "Get superuser password: hgcal\n",
      "Database name: testdb3\n",
      "Connection successful. \n",
      "\n",
      "2024-02-07 180654\n",
      "('test2', '0', 1.5632304, [133.83667, 149.79117, 178.76729, 210.39729, 220.83415, 217.92127, 219.63354, 211.09385, 178.42969, 147.72378, 133.0574, 99.69919, 71.7943, 61.75042, 61.88726, 62.04552, 65.48081, 101.53708, 116.79271, 160.3848, 178.3835, 162.80256, 116.40882, 103.87269, 144.41987], [199.86229, 200.19172, 219.67347, 239.97654, 250.29375, 285.83019, 327.29166, 340.95988, 359.20982, 377.38311, 376.43572, 356.57642, 339.76424, 325.40876, 289.5707, 248.47532, 241.82763, 221.5252, 254.48036, 254.65085, 287.3542, 322.13092, 321.94996, 290.30187, 291.29881], [1.47164, 1.43834, 1.4504, 1.45472, 1.44709, 1.51935, 1.58971, 1.59909, 1.58758, 1.5761, 1.56672, 1.56058, 1.56788, 1.58507, 1.62991, 1.56062, 1.54363, 1.5323, 1.63208, 1.59806, 1.60768, 1.63661, 1.63772, 1.66301, 1.62487], 'cmu_person', 'none')\n",
      "Data is successfully uploaded to the proto_inspect!\n"
     ]
    }
   ],
   "source": [
    "import psycopg2\n",
    "import os\n",
    "import csv\n",
    "import sys\n",
    "sys.path.append('../')\n",
    "from psycopg2 import sql\n",
    "import numpy as np\n",
    "import json\n",
    "from src.utils import connect_db, get_table_name\n",
    "\n",
    "\n",
    "def upload_PostgreSQL(table_name,\n",
    "                      proto_name,\n",
    "                       material,\n",
    "                       geometry,\n",
    "                       resolution,\n",
    "                       thickness,\n",
    "                       actual_X,\n",
    "                       actual_Y,\n",
    "                       actual_Z,\n",
    "                       flatness,\n",
    "                       inspectDate,\n",
    "                       inspectTime,\n",
    "                       comments):\n",
    "    \n",
    "    conn = connect_db()\n",
    "    cursor = conn.cursor()\n",
    "    print('Connection successful. \\n')\n",
    "\n",
    "    schema_name = 'public'\n",
    "    table_exists_query = sql.SQL(\"SELECT EXISTS (SELECT 1 FROM information_schema.tables WHERE table_schema = %s AND table_name = %s);\")\n",
    "    cursor.execute(table_exists_query, [schema_name, table_name])\n",
    "    table_exists = cursor.fetchone()[0]## this gives true/false\n",
    "    \n",
    "    query = f\"\"\" \n",
    "    INSERT INTO {table_name} \n",
    "    (proto_name, flatness, thickness, x_points, y_points, z_points, inspector, comment)\n",
    "    VALUES (%s, %s, %s, %s, %s, %s, %s, %s)\n",
    "    \"\"\"\n",
    "    # date_inspect, time_inspect,\n",
    "\n",
    "    \n",
    "    from datetime import datetime\n",
    "    print(datetime.now().strftime(\"%Y-%m-%d\"),datetime.now().strftime(\"%H%M%S\"))\n",
    "    data = (proto_name, flatness, thickness, actual_X.tolist(), actual_Y.tolist(), actual_Z.tolist(), #str(datetime.now().strftime(\"%Y-%m-%d\")),str(datetime.now().strftime(\"%H%M%S\")),\n",
    "            inspector, comments)\n",
    "    print(tuple(data))\n",
    "    if table_exists:\n",
    "        cursor.execute(query, tuple(data))\n",
    "        conn.commit()\n",
    "        print(f'Data is successfully uploaded to the {table_name}!')\n",
    "    \n",
    "    else:\n",
    "        print(f'Table {table_name} does not exist in the database.')\n",
    "        \n",
    "    ## close connection\n",
    "    cursor.close()\n",
    "    conn.close()\n",
    "    \n",
    "    return None\n",
    "\n",
    "\n",
    "\n",
    "inspector = 'cmu_person'\n",
    "resolution = 'LD'\n",
    "geometry = 'full'\n",
    "material = 'cf'\n",
    "proto_name='test2'\n",
    "comments = 'none'\n",
    "flatness = '0'\n",
    "inspectDate, inspectTime = 0,0\n",
    "sensor_Heights = np.loadtxt('sensor_heights.txt')\n",
    "actual_X, actual_Y, actual_Z = sensor_Heights[0], sensor_Heights[1], sensor_Heights[2]\n",
    "print(actual_X.tolist())\n",
    "thickness = np.mean(actual_Z)\n",
    "table_name = \"proto_inspect\"\n",
    "print('Data Obtained')\n",
    "upload_PostgreSQL(table_name,\n",
    "                    proto_name,\n",
    "                       material,\n",
    "                       geometry,\n",
    "                       resolution,\n",
    "                       thickness,\n",
    "                       actual_X,\n",
    "                       actual_Y,\n",
    "                       actual_Z,\n",
    "                       flatness,\n",
    "                       inspectDate,\n",
    "                       inspectTime,\n",
    "                       comments)\n"
   ]
  },
  {
   "cell_type": "code",
   "execution_count": 2,
   "id": "b5546796",
   "metadata": {},
   "outputs": [],
   "source": [
    "fname = '../upload/sensor_Heights.txt'\n",
    "table_name = 'proto_assembly'\n",
    "numeric_data = np.loadtxt(fname)"
   ]
  },
  {
   "cell_type": "code",
   "execution_count": 3,
   "id": "c5e50af5",
   "metadata": {},
   "outputs": [
    {
     "data": {
      "text/plain": [
       "(15, 5)"
      ]
     },
     "execution_count": 3,
     "metadata": {},
     "output_type": "execute_result"
    }
   ],
   "source": [
    "## the columns accept numeric data are \n",
    "## position, region, ass_tray_id, comp_tray_id, put_id\n",
    "\n",
    "numeric_data = numeric_data.reshape(-1, 5)\n",
    "numeric_data.shape"
   ]
  },
  {
   "cell_type": "code",
   "execution_count": 4,
   "id": "a10af1e1",
   "metadata": {},
   "outputs": [
    {
     "data": {
      "text/plain": [
       "array([[133.83667, 149.79117, 178.76729, 210.39729, 220.83415],\n",
       "       [217.92127, 219.63354, 211.09385, 178.42969, 147.72378],\n",
       "       [133.0574 ,  99.69919,  71.7943 ,  61.75042,  61.88726],\n",
       "       [ 62.04552,  65.48081, 101.53708, 116.79271, 160.3848 ],\n",
       "       [178.3835 , 162.80256, 116.40882, 103.87269, 144.41987],\n",
       "       [199.86229, 200.19172, 219.67347, 239.97654, 250.29375],\n",
       "       [285.83019, 327.29166, 340.95988, 359.20982, 377.38311],\n",
       "       [376.43572, 356.57642, 339.76424, 325.40876, 289.5707 ],\n",
       "       [248.47532, 241.82763, 221.5252 , 254.48036, 254.65085],\n",
       "       [287.3542 , 322.13092, 321.94996, 290.30187, 291.29881],\n",
       "       [  1.47164,   1.43834,   1.4504 ,   1.45472,   1.44709],\n",
       "       [  1.51935,   1.58971,   1.59909,   1.58758,   1.5761 ],\n",
       "       [  1.56672,   1.56058,   1.56788,   1.58507,   1.62991],\n",
       "       [  1.56062,   1.54363,   1.5323 ,   1.63208,   1.59806],\n",
       "       [  1.60768,   1.63661,   1.63772,   1.66301,   1.62487]])"
      ]
     },
     "execution_count": 4,
     "metadata": {},
     "output_type": "execute_result"
    }
   ],
   "source": [
    "numeric_data"
   ]
  },
  {
   "cell_type": "code",
   "execution_count": 5,
   "id": "314daa14",
   "metadata": {},
   "outputs": [
    {
     "data": {
      "text/plain": [
       "[133.83667, 149.79117, 178.76729, 210.39729, 220.83415]"
      ]
     },
     "execution_count": 5,
     "metadata": {},
     "output_type": "execute_result"
    }
   ],
   "source": [
    "list(numeric_data[0])"
   ]
  },
  {
   "cell_type": "code",
   "execution_count": 6,
   "id": "37709785",
   "metadata": {},
   "outputs": [],
   "source": [
    "## At this point, let's say each column in numeric data represents the data for each column in the table\n",
    "position = numeric_data[:, 0]\n",
    "region = numeric_data[:, 1]\n",
    "ass_tray_id = numeric_data[:, 2]\n",
    "comp_tray_id = numeric_data[:, 3]\n",
    "put_id = numeric_data[:, 4]"
   ]
  },
  {
   "cell_type": "code",
   "execution_count": 7,
   "id": "7ca09b1f",
   "metadata": {},
   "outputs": [],
   "source": [
    "## other columns with text entries are\n",
    "## proto_name, bp_name, sen_name, tape_batch, epoxy_batch, operator\n",
    "\n",
    "proto_name = 'proto_name'\n",
    "bp_name = 'bp_name'\n",
    "sen_name = 'sen_name'\n",
    "tape_batch = 'tape_batch'\n",
    "epoxy_batch = 'epoxy_batch'\n",
    "operator = 'cmu_person'\n",
    "\n",
    "## DATE/ TIME entires\n",
    "## date_inspect, time_inspect\n",
    "date_inspect = '01-22-2024'\n",
    "time_inspect = '10-25'"
   ]
  },
  {
   "cell_type": "code",
   "execution_count": 8,
   "id": "e1a004c0",
   "metadata": {},
   "outputs": [
    {
     "data": {
      "text/plain": [
       "(15,)"
      ]
     },
     "execution_count": 8,
     "metadata": {},
     "output_type": "execute_result"
    }
   ],
   "source": [
    "position.shape"
   ]
  },
  {
   "cell_type": "code",
   "execution_count": 9,
   "id": "a84686ed",
   "metadata": {},
   "outputs": [],
   "source": [
    "## in proto_assembly, there are 13 columns to be inserted data. \n",
    "## whereas the default number of columns in the upload_PostgreSQL is 11.\n",
    "## So, here we will add two more columns (as in arguments in the function)"
   ]
  },
  {
   "cell_type": "code",
   "execution_count": 29,
   "id": "b9fcd454",
   "metadata": {},
   "outputs": [],
   "source": [
    "# %load upload_PostgreSQL.py\n",
    "import psycopg2\n",
    "import os\n",
    "import csv\n",
    "import sys\n",
    "sys.path.append('../')\n",
    "from psycopg2 import sql\n",
    "import numpy as np\n",
    "from src.utils import connect_db, get_table_name\n",
    "\n",
    "def upload_PostgreSQL(table_name,\n",
    "                        common_info1,\n",
    "                        common_info2,\n",
    "                        common_info3,\n",
    "                        common_info4,\n",
    "                        common_info5,\n",
    "                        common_info6,\n",
    "                        common_info7,\n",
    "                        common_info8,\n",
    "                        numeric_col1,\n",
    "                        numeric_col2,\n",
    "                        numeric_col3,\n",
    "                        numeric_col4,\n",
    "                        numeric_col5,\n",
    "                        schema_name = 'public'):\n",
    "    \n",
    "    ## connect to database\n",
    "    conn = connect_db()\n",
    "    cursor = conn.cursor()\n",
    "    print('Connection successful. \\n')\n",
    "        \n",
    "    table_exists_query = sql.SQL(\"SELECT EXISTS (SELECT 1 FROM information_schema.tables WHERE table_schema = %s AND table_name = %s);\")\n",
    "    cursor.execute(table_exists_query, [schema_name, table_name])\n",
    "    table_exists = cursor.fetchone()[0]## this gives true/false\n",
    "    \n",
    "#     data = (common_info1, common_info2, common_info3, common_info4, common_info5, common_info6,\n",
    "#             common_info7, common_info8, numeric_col1, numeric_col2, numeric_col3, numeric_col4, numeric_col5)\n",
    "    \n",
    "    if table_exists:\n",
    "#         query = f\"\"\" \n",
    "#                 INSERT INTO {table_name} \n",
    "#                 ({common_info1, common_info2, common_info3, common_info4, common_info5, \n",
    "#                   common_info6, common_info7, common_info8, numeric_col1, numeric_col2, \n",
    "#                   numeric_col3, numeric_col4, numeric_col5})\n",
    "#                 VALUES (%s, %s, %s, %s, %s, %s, %s, %s, %s, %s, %s, %s, %s)\n",
    "#                 \"\"\"\n",
    "        columns = f'{common_info1}, {common_info2}, {common_info3}, {common_info4}, {common_info5}, {common_info6}, {common_info7}, {common_info8}, {numeric_col1}, {numeric_col2}, {numeric_col3}, {numeric_col4}, {numeric_col5}'\n",
    "        \n",
    "        query = sql.SQL(\"INSERT INTO {} ({}) VALUES({})\").format(\n",
    "                sql.Identifier(table_name),\n",
    "                sql.Identifier(columns),\n",
    "                sql.SQL('%s, %s, %s, %s, %s, %s, %s, %s, %s, %s, %s, %s, %s')\n",
    "                )\n",
    "        \n",
    "        \n",
    "        ## set up data structure\n",
    "        common_info = [common_info1, common_info2, common_info3, common_info4, common_info5, common_info6, \n",
    "                       common_info7, common_info8]\n",
    "\n",
    "        for i in range(numeric_col1.shape[0]):\n",
    "            data = [numeric_col1[i], numeric_col2[i], numeric_col3[i], numeric_col4[i], numeric_col5[i]]\n",
    "            data = common_info + data\n",
    "            print(len(data), data)\n",
    "            cursor.execute(query, tuple(data))\n",
    "            \n",
    "        conn.commit()\n",
    "        print(f'Data is successfully uploaded to the {table_name}!')\n",
    "    \n",
    "    else:\n",
    "        print(f'Table {table_name} does not exist in the database.')\n",
    "        \n",
    "    ## close connection\n",
    "    cursor.close()\n",
    "    conn.close()\n",
    "    \n",
    "    return None\n"
   ]
  },
  {
   "cell_type": "code",
   "execution_count": 34,
   "id": "6de54532",
   "metadata": {},
   "outputs": [],
   "source": [
    "params = {'table_name': table_name, \n",
    "          'common_info1': proto_name, \n",
    "          'common_info2': bp_name,\n",
    "          'common_info3': sen_name,\n",
    "          'common_info4': tape_batch,\n",
    "          'common_info5': epoxy_batch,\n",
    "          'common_info6': date_inspect,\n",
    "          'common_info7': time_inspect,\n",
    "          'common_info8': operator,\n",
    "          'numeric_col1': position,\n",
    "          'numeric_col2': region,\n",
    "          'numeric_col3': ass_tray_id,\n",
    "          'numeric_col4': comp_tray_id,\n",
    "          'numeric_col5': put_id}\n"
   ]
  },
  {
   "cell_type": "code",
   "execution_count": null,
   "id": "d7211ffd",
   "metadata": {},
   "outputs": [],
   "source": []
  },
  {
   "cell_type": "code",
   "execution_count": 35,
   "id": "ccdd5863",
   "metadata": {},
   "outputs": [
    {
     "name": "stdout",
     "output_type": "stream",
     "text": [
      "Set superuser password: /nhgcal\n",
      "Connection successful. \n",
      "\n",
      "13 ['proto_name', 'bp_name', 'sen_name', 'tape_batch', 'epoxy_batch', '01-22-2024', '10-25', 'cmu_person', 133.83667, 149.79117, 178.76729, 210.39729, 220.83415]\n"
     ]
    },
    {
     "ename": "UndefinedColumn",
     "evalue": "column \"proto_name, bp_name, sen_name, tape_batch, epoxy_batch, 01-22-2\" of relation \"proto_assembly\" does not exist\nLINE 1: INSERT INTO \"proto_assembly\" (\"proto_name, bp_name, sen_name...\n                                      ^\n",
     "output_type": "error",
     "traceback": [
      "\u001b[0;31m---------------------------------------------------------------------------\u001b[0m",
      "\u001b[0;31mUndefinedColumn\u001b[0m                           Traceback (most recent call last)",
      "\u001b[0;32m<ipython-input-35-486a09b2a23d>\u001b[0m in \u001b[0;36m<module>\u001b[0;34m\u001b[0m\n\u001b[0;32m----> 1\u001b[0;31m \u001b[0mupload_PostgreSQL\u001b[0m\u001b[0;34m(\u001b[0m\u001b[0;34m**\u001b[0m\u001b[0mparams\u001b[0m\u001b[0;34m)\u001b[0m\u001b[0;34m\u001b[0m\u001b[0;34m\u001b[0m\u001b[0m\n\u001b[0m",
      "\u001b[0;32m<ipython-input-29-9a9be67ef14c>\u001b[0m in \u001b[0;36mupload_PostgreSQL\u001b[0;34m(table_name, common_info1, common_info2, common_info3, common_info4, common_info5, common_info6, common_info7, common_info8, numeric_col1, numeric_col2, numeric_col3, numeric_col4, numeric_col5, schema_name)\u001b[0m\n\u001b[1;32m     62\u001b[0m             \u001b[0mdata\u001b[0m \u001b[0;34m=\u001b[0m \u001b[0mcommon_info\u001b[0m \u001b[0;34m+\u001b[0m \u001b[0mdata\u001b[0m\u001b[0;34m\u001b[0m\u001b[0;34m\u001b[0m\u001b[0m\n\u001b[1;32m     63\u001b[0m             \u001b[0mprint\u001b[0m\u001b[0;34m(\u001b[0m\u001b[0mlen\u001b[0m\u001b[0;34m(\u001b[0m\u001b[0mdata\u001b[0m\u001b[0;34m)\u001b[0m\u001b[0;34m,\u001b[0m \u001b[0mdata\u001b[0m\u001b[0;34m)\u001b[0m\u001b[0;34m\u001b[0m\u001b[0;34m\u001b[0m\u001b[0m\n\u001b[0;32m---> 64\u001b[0;31m             \u001b[0mcursor\u001b[0m\u001b[0;34m.\u001b[0m\u001b[0mexecute\u001b[0m\u001b[0;34m(\u001b[0m\u001b[0mquery\u001b[0m\u001b[0;34m,\u001b[0m \u001b[0mtuple\u001b[0m\u001b[0;34m(\u001b[0m\u001b[0mdata\u001b[0m\u001b[0;34m)\u001b[0m\u001b[0;34m)\u001b[0m\u001b[0;34m\u001b[0m\u001b[0;34m\u001b[0m\u001b[0m\n\u001b[0m\u001b[1;32m     65\u001b[0m \u001b[0;34m\u001b[0m\u001b[0m\n\u001b[1;32m     66\u001b[0m         \u001b[0mconn\u001b[0m\u001b[0;34m.\u001b[0m\u001b[0mcommit\u001b[0m\u001b[0;34m(\u001b[0m\u001b[0;34m)\u001b[0m\u001b[0;34m\u001b[0m\u001b[0;34m\u001b[0m\u001b[0m\n",
      "\u001b[0;31mUndefinedColumn\u001b[0m: column \"proto_name, bp_name, sen_name, tape_batch, epoxy_batch, 01-22-2\" of relation \"proto_assembly\" does not exist\nLINE 1: INSERT INTO \"proto_assembly\" (\"proto_name, bp_name, sen_name...\n                                      ^\n"
     ]
    }
   ],
   "source": [
    "upload_PostgreSQL(**params)"
   ]
  },
  {
   "cell_type": "code",
   "execution_count": null,
   "id": "4b47f146",
   "metadata": {},
   "outputs": [],
   "source": []
  }
 ],
 "metadata": {
  "kernelspec": {
   "display_name": "Python 3 (ipykernel)",
   "language": "python",
   "name": "python3"
  },
  "language_info": {
   "codemirror_mode": {
    "name": "ipython",
    "version": 3
   },
   "file_extension": ".py",
   "mimetype": "text/x-python",
   "name": "python",
   "nbconvert_exporter": "python",
   "pygments_lexer": "ipython3",
   "version": "3.10.12"
  }
 },
 "nbformat": 4,
 "nbformat_minor": 5
}
